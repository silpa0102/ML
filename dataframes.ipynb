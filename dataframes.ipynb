{
 "cells": [
  {
   "cell_type": "code",
   "execution_count": 1,
   "id": "d25a7a10-531e-431d-b7f2-00cb4f8601c5",
   "metadata": {
    "tags": []
   },
   "outputs": [],
   "source": [
    "import pandas as pd"
   ]
  },
  {
   "cell_type": "code",
   "execution_count": 2,
   "id": "c41f2d89-ed42-40ee-96ed-1d722b7abb18",
   "metadata": {
    "tags": []
   },
   "outputs": [],
   "source": [
    "import numpy as np\n"
   ]
  },
  {
   "cell_type": "code",
   "execution_count": 3,
   "id": "f9f4a281-1e1b-4624-aa0e-d699032dc44a",
   "metadata": {
    "tags": []
   },
   "outputs": [],
   "source": [
    "arr=np.array([[1,2,3],[4,5,6]])\n",
    "df=pd.DataFrame(arr)"
   ]
  },
  {
   "cell_type": "code",
   "execution_count": 4,
   "id": "7ade6ff8-16d8-4518-8eb6-c05806fd335b",
   "metadata": {
    "tags": []
   },
   "outputs": [
    {
     "data": {
      "text/html": [
       "<div>\n",
       "<style scoped>\n",
       "    .dataframe tbody tr th:only-of-type {\n",
       "        vertical-align: middle;\n",
       "    }\n",
       "\n",
       "    .dataframe tbody tr th {\n",
       "        vertical-align: top;\n",
       "    }\n",
       "\n",
       "    .dataframe thead th {\n",
       "        text-align: right;\n",
       "    }\n",
       "</style>\n",
       "<table border=\"1\" class=\"dataframe\">\n",
       "  <thead>\n",
       "    <tr style=\"text-align: right;\">\n",
       "      <th></th>\n",
       "      <th>0</th>\n",
       "      <th>1</th>\n",
       "      <th>2</th>\n",
       "    </tr>\n",
       "  </thead>\n",
       "  <tbody>\n",
       "    <tr>\n",
       "      <th>0</th>\n",
       "      <td>1</td>\n",
       "      <td>2</td>\n",
       "      <td>3</td>\n",
       "    </tr>\n",
       "    <tr>\n",
       "      <th>1</th>\n",
       "      <td>4</td>\n",
       "      <td>5</td>\n",
       "      <td>6</td>\n",
       "    </tr>\n",
       "  </tbody>\n",
       "</table>\n",
       "</div>"
      ],
      "text/plain": [
       "   0  1  2\n",
       "0  1  2  3\n",
       "1  4  5  6"
      ]
     },
     "execution_count": 4,
     "metadata": {},
     "output_type": "execute_result"
    }
   ],
   "source": [
    "df"
   ]
  },
  {
   "cell_type": "code",
   "execution_count": 6,
   "id": "9280ba69-e390-4d71-9a4c-93f827c9de26",
   "metadata": {
    "tags": []
   },
   "outputs": [
    {
     "data": {
      "text/plain": [
       "0    2\n",
       "1    5\n",
       "Name: 1, dtype: int32"
      ]
     },
     "execution_count": 6,
     "metadata": {},
     "output_type": "execute_result"
    }
   ],
   "source": [
    "df[1]"
   ]
  },
  {
   "cell_type": "code",
   "execution_count": 7,
   "id": "170f6e77-29aa-4812-b3aa-2facad51cd67",
   "metadata": {
    "tags": []
   },
   "outputs": [
    {
     "data": {
      "text/plain": [
       "RangeIndex(start=0, stop=3, step=1)"
      ]
     },
     "execution_count": 7,
     "metadata": {},
     "output_type": "execute_result"
    }
   ],
   "source": [
    "df.columns"
   ]
  },
  {
   "cell_type": "code",
   "execution_count": 8,
   "id": "d7470d43-f673-4718-bac4-2d4995efc259",
   "metadata": {
    "tags": []
   },
   "outputs": [],
   "source": [
    "arr=np.array([[1,2,3],[4,5,6]])\n",
    "df=pd.DataFrame(arr,columns=['col1','col2','col3'])"
   ]
  },
  {
   "cell_type": "code",
   "execution_count": 9,
   "id": "9c45775c-ea88-4031-ba1c-97c02be2a651",
   "metadata": {
    "tags": []
   },
   "outputs": [
    {
     "data": {
      "text/html": [
       "<div>\n",
       "<style scoped>\n",
       "    .dataframe tbody tr th:only-of-type {\n",
       "        vertical-align: middle;\n",
       "    }\n",
       "\n",
       "    .dataframe tbody tr th {\n",
       "        vertical-align: top;\n",
       "    }\n",
       "\n",
       "    .dataframe thead th {\n",
       "        text-align: right;\n",
       "    }\n",
       "</style>\n",
       "<table border=\"1\" class=\"dataframe\">\n",
       "  <thead>\n",
       "    <tr style=\"text-align: right;\">\n",
       "      <th></th>\n",
       "      <th>col1</th>\n",
       "      <th>col2</th>\n",
       "      <th>col3</th>\n",
       "    </tr>\n",
       "  </thead>\n",
       "  <tbody>\n",
       "    <tr>\n",
       "      <th>0</th>\n",
       "      <td>1</td>\n",
       "      <td>2</td>\n",
       "      <td>3</td>\n",
       "    </tr>\n",
       "    <tr>\n",
       "      <th>1</th>\n",
       "      <td>4</td>\n",
       "      <td>5</td>\n",
       "      <td>6</td>\n",
       "    </tr>\n",
       "  </tbody>\n",
       "</table>\n",
       "</div>"
      ],
      "text/plain": [
       "   col1  col2  col3\n",
       "0     1     2     3\n",
       "1     4     5     6"
      ]
     },
     "execution_count": 9,
     "metadata": {},
     "output_type": "execute_result"
    }
   ],
   "source": [
    "df"
   ]
  },
  {
   "cell_type": "code",
   "execution_count": 10,
   "id": "3a414fac-df61-4546-9293-e6d98de48d8f",
   "metadata": {
    "tags": []
   },
   "outputs": [],
   "source": [
    "# Dataframes from Series\n",
    "s1=pd.Series(np.random.randn(5),index=['a','b','c','d','e'])"
   ]
  },
  {
   "cell_type": "code",
   "execution_count": 11,
   "id": "465ff1ce-54eb-4caa-80bc-ea62d38554db",
   "metadata": {
    "tags": []
   },
   "outputs": [],
   "source": [
    "s2=pd.Series(np.random.randn(5),index=['a','b','c','d','e'])"
   ]
  },
  {
   "cell_type": "code",
   "execution_count": 12,
   "id": "63cabe6e-110f-4703-8cff-d725c775be47",
   "metadata": {
    "tags": []
   },
   "outputs": [
    {
     "data": {
      "text/plain": [
       "a    0.437862\n",
       "b    0.045782\n",
       "c   -0.127715\n",
       "d   -1.136322\n",
       "e    1.627655\n",
       "dtype: float64"
      ]
     },
     "execution_count": 12,
     "metadata": {},
     "output_type": "execute_result"
    }
   ],
   "source": [
    "s2"
   ]
  },
  {
   "cell_type": "code",
   "execution_count": 13,
   "id": "652899f9-04f4-457b-86f2-00e08180c727",
   "metadata": {
    "tags": []
   },
   "outputs": [],
   "source": [
    "df=pd.concat([s1,s2])"
   ]
  },
  {
   "cell_type": "code",
   "execution_count": 14,
   "id": "2ddc05c1-3e13-4944-9a40-b599eee3abd7",
   "metadata": {
    "tags": []
   },
   "outputs": [
    {
     "data": {
      "text/plain": [
       "a   -1.887852\n",
       "b   -0.463421\n",
       "c   -0.143219\n",
       "d    1.109602\n",
       "e    0.328801\n",
       "a    0.437862\n",
       "b    0.045782\n",
       "c   -0.127715\n",
       "d   -1.136322\n",
       "e    1.627655\n",
       "dtype: float64"
      ]
     },
     "execution_count": 14,
     "metadata": {},
     "output_type": "execute_result"
    }
   ],
   "source": [
    "df"
   ]
  },
  {
   "cell_type": "code",
   "execution_count": 15,
   "id": "d1bbe0e2-f8b2-4dea-b141-5b3702b3c119",
   "metadata": {
    "tags": []
   },
   "outputs": [],
   "source": [
    "df=pd.concat([s1,s2],axis=1)"
   ]
  },
  {
   "cell_type": "code",
   "execution_count": 16,
   "id": "8448b7ef-1e2f-41d7-be47-2937f3860746",
   "metadata": {
    "tags": []
   },
   "outputs": [
    {
     "data": {
      "text/html": [
       "<div>\n",
       "<style scoped>\n",
       "    .dataframe tbody tr th:only-of-type {\n",
       "        vertical-align: middle;\n",
       "    }\n",
       "\n",
       "    .dataframe tbody tr th {\n",
       "        vertical-align: top;\n",
       "    }\n",
       "\n",
       "    .dataframe thead th {\n",
       "        text-align: right;\n",
       "    }\n",
       "</style>\n",
       "<table border=\"1\" class=\"dataframe\">\n",
       "  <thead>\n",
       "    <tr style=\"text-align: right;\">\n",
       "      <th></th>\n",
       "      <th>0</th>\n",
       "      <th>1</th>\n",
       "    </tr>\n",
       "  </thead>\n",
       "  <tbody>\n",
       "    <tr>\n",
       "      <th>a</th>\n",
       "      <td>-1.887852</td>\n",
       "      <td>0.437862</td>\n",
       "    </tr>\n",
       "    <tr>\n",
       "      <th>b</th>\n",
       "      <td>-0.463421</td>\n",
       "      <td>0.045782</td>\n",
       "    </tr>\n",
       "    <tr>\n",
       "      <th>c</th>\n",
       "      <td>-0.143219</td>\n",
       "      <td>-0.127715</td>\n",
       "    </tr>\n",
       "    <tr>\n",
       "      <th>d</th>\n",
       "      <td>1.109602</td>\n",
       "      <td>-1.136322</td>\n",
       "    </tr>\n",
       "    <tr>\n",
       "      <th>e</th>\n",
       "      <td>0.328801</td>\n",
       "      <td>1.627655</td>\n",
       "    </tr>\n",
       "  </tbody>\n",
       "</table>\n",
       "</div>"
      ],
      "text/plain": [
       "          0         1\n",
       "a -1.887852  0.437862\n",
       "b -0.463421  0.045782\n",
       "c -0.143219 -0.127715\n",
       "d  1.109602 -1.136322\n",
       "e  0.328801  1.627655"
      ]
     },
     "execution_count": 16,
     "metadata": {},
     "output_type": "execute_result"
    }
   ],
   "source": [
    "df"
   ]
  },
  {
   "cell_type": "code",
   "execution_count": 17,
   "id": "f4dfe86c-8e57-41d4-ad15-a2ffed6ae883",
   "metadata": {
    "tags": []
   },
   "outputs": [],
   "source": [
    "df=pd.concat([s1,s2],axis=1).reset_index()"
   ]
  },
  {
   "cell_type": "code",
   "execution_count": 18,
   "id": "f7d53a44-e420-45c8-987f-23d3c15abd1c",
   "metadata": {
    "tags": []
   },
   "outputs": [
    {
     "data": {
      "text/html": [
       "<div>\n",
       "<style scoped>\n",
       "    .dataframe tbody tr th:only-of-type {\n",
       "        vertical-align: middle;\n",
       "    }\n",
       "\n",
       "    .dataframe tbody tr th {\n",
       "        vertical-align: top;\n",
       "    }\n",
       "\n",
       "    .dataframe thead th {\n",
       "        text-align: right;\n",
       "    }\n",
       "</style>\n",
       "<table border=\"1\" class=\"dataframe\">\n",
       "  <thead>\n",
       "    <tr style=\"text-align: right;\">\n",
       "      <th></th>\n",
       "      <th>index</th>\n",
       "      <th>0</th>\n",
       "      <th>1</th>\n",
       "    </tr>\n",
       "  </thead>\n",
       "  <tbody>\n",
       "    <tr>\n",
       "      <th>0</th>\n",
       "      <td>a</td>\n",
       "      <td>-1.887852</td>\n",
       "      <td>0.437862</td>\n",
       "    </tr>\n",
       "    <tr>\n",
       "      <th>1</th>\n",
       "      <td>b</td>\n",
       "      <td>-0.463421</td>\n",
       "      <td>0.045782</td>\n",
       "    </tr>\n",
       "    <tr>\n",
       "      <th>2</th>\n",
       "      <td>c</td>\n",
       "      <td>-0.143219</td>\n",
       "      <td>-0.127715</td>\n",
       "    </tr>\n",
       "    <tr>\n",
       "      <th>3</th>\n",
       "      <td>d</td>\n",
       "      <td>1.109602</td>\n",
       "      <td>-1.136322</td>\n",
       "    </tr>\n",
       "    <tr>\n",
       "      <th>4</th>\n",
       "      <td>e</td>\n",
       "      <td>0.328801</td>\n",
       "      <td>1.627655</td>\n",
       "    </tr>\n",
       "  </tbody>\n",
       "</table>\n",
       "</div>"
      ],
      "text/plain": [
       "  index         0         1\n",
       "0     a -1.887852  0.437862\n",
       "1     b -0.463421  0.045782\n",
       "2     c -0.143219 -0.127715\n",
       "3     d  1.109602 -1.136322\n",
       "4     e  0.328801  1.627655"
      ]
     },
     "execution_count": 18,
     "metadata": {},
     "output_type": "execute_result"
    }
   ],
   "source": [
    "df"
   ]
  },
  {
   "cell_type": "code",
   "execution_count": 19,
   "id": "d971d4ab-76ba-4096-a6b6-0841d0f8a9e7",
   "metadata": {
    "tags": []
   },
   "outputs": [
    {
     "data": {
      "text/plain": [
       "-0.46342118059354603"
      ]
     },
     "execution_count": 19,
     "metadata": {},
     "output_type": "execute_result"
    }
   ],
   "source": [
    "df.iloc[1][0] #pure index location"
   ]
  },
  {
   "cell_type": "code",
   "execution_count": 20,
   "id": "8a7ccdca-04fd-4e5c-8b09-284059ff3a92",
   "metadata": {
    "tags": []
   },
   "outputs": [
    {
     "data": {
      "text/html": [
       "<div>\n",
       "<style scoped>\n",
       "    .dataframe tbody tr th:only-of-type {\n",
       "        vertical-align: middle;\n",
       "    }\n",
       "\n",
       "    .dataframe tbody tr th {\n",
       "        vertical-align: top;\n",
       "    }\n",
       "\n",
       "    .dataframe thead th {\n",
       "        text-align: right;\n",
       "    }\n",
       "</style>\n",
       "<table border=\"1\" class=\"dataframe\">\n",
       "  <thead>\n",
       "    <tr style=\"text-align: right;\">\n",
       "      <th></th>\n",
       "      <th>0</th>\n",
       "    </tr>\n",
       "  </thead>\n",
       "  <tbody>\n",
       "    <tr>\n",
       "      <th>a</th>\n",
       "      <td>0.437862</td>\n",
       "    </tr>\n",
       "    <tr>\n",
       "      <th>b</th>\n",
       "      <td>0.045782</td>\n",
       "    </tr>\n",
       "    <tr>\n",
       "      <th>c</th>\n",
       "      <td>-0.127715</td>\n",
       "    </tr>\n",
       "    <tr>\n",
       "      <th>d</th>\n",
       "      <td>-1.136322</td>\n",
       "    </tr>\n",
       "    <tr>\n",
       "      <th>e</th>\n",
       "      <td>1.627655</td>\n",
       "    </tr>\n",
       "  </tbody>\n",
       "</table>\n",
       "</div>"
      ],
      "text/plain": [
       "          0\n",
       "a  0.437862\n",
       "b  0.045782\n",
       "c -0.127715\n",
       "d -1.136322\n",
       "e  1.627655"
      ]
     },
     "execution_count": 20,
     "metadata": {},
     "output_type": "execute_result"
    }
   ],
   "source": [
    "s2.to_frame() #immediate dataframe"
   ]
  },
  {
   "cell_type": "code",
   "execution_count": 21,
   "id": "798cd334-2b01-44d8-847b-8221898eae26",
   "metadata": {
    "tags": []
   },
   "outputs": [
    {
     "data": {
      "text/html": [
       "<div>\n",
       "<style scoped>\n",
       "    .dataframe tbody tr th:only-of-type {\n",
       "        vertical-align: middle;\n",
       "    }\n",
       "\n",
       "    .dataframe tbody tr th {\n",
       "        vertical-align: top;\n",
       "    }\n",
       "\n",
       "    .dataframe thead th {\n",
       "        text-align: right;\n",
       "    }\n",
       "</style>\n",
       "<table border=\"1\" class=\"dataframe\">\n",
       "  <thead>\n",
       "    <tr style=\"text-align: right;\">\n",
       "      <th></th>\n",
       "      <th>index</th>\n",
       "      <th>0</th>\n",
       "      <th>1</th>\n",
       "    </tr>\n",
       "  </thead>\n",
       "  <tbody>\n",
       "    <tr>\n",
       "      <th>0</th>\n",
       "      <td>a</td>\n",
       "      <td>-1.887852</td>\n",
       "      <td>0.437862</td>\n",
       "    </tr>\n",
       "    <tr>\n",
       "      <th>1</th>\n",
       "      <td>b</td>\n",
       "      <td>-0.463421</td>\n",
       "      <td>0.045782</td>\n",
       "    </tr>\n",
       "    <tr>\n",
       "      <th>2</th>\n",
       "      <td>c</td>\n",
       "      <td>-0.143219</td>\n",
       "      <td>-0.127715</td>\n",
       "    </tr>\n",
       "    <tr>\n",
       "      <th>3</th>\n",
       "      <td>d</td>\n",
       "      <td>1.109602</td>\n",
       "      <td>-1.136322</td>\n",
       "    </tr>\n",
       "    <tr>\n",
       "      <th>4</th>\n",
       "      <td>e</td>\n",
       "      <td>0.328801</td>\n",
       "      <td>1.627655</td>\n",
       "    </tr>\n",
       "  </tbody>\n",
       "</table>\n",
       "</div>"
      ],
      "text/plain": [
       "  index         0         1\n",
       "0     a -1.887852  0.437862\n",
       "1     b -0.463421  0.045782\n",
       "2     c -0.143219 -0.127715\n",
       "3     d  1.109602 -1.136322\n",
       "4     e  0.328801  1.627655"
      ]
     },
     "execution_count": 21,
     "metadata": {},
     "output_type": "execute_result"
    }
   ],
   "source": [
    "df"
   ]
  },
  {
   "cell_type": "code",
   "execution_count": 22,
   "id": "8d12bb76-e230-4efa-8169-e987c6984a30",
   "metadata": {
    "tags": []
   },
   "outputs": [],
   "source": [
    "my_df=pd.DataFrame(np.random.randn(25).reshape(5,5))"
   ]
  },
  {
   "cell_type": "code",
   "execution_count": 23,
   "id": "1aee2f79-94a1-4c49-ad1b-0b889271cbc5",
   "metadata": {
    "tags": []
   },
   "outputs": [
    {
     "data": {
      "text/html": [
       "<div>\n",
       "<style scoped>\n",
       "    .dataframe tbody tr th:only-of-type {\n",
       "        vertical-align: middle;\n",
       "    }\n",
       "\n",
       "    .dataframe tbody tr th {\n",
       "        vertical-align: top;\n",
       "    }\n",
       "\n",
       "    .dataframe thead th {\n",
       "        text-align: right;\n",
       "    }\n",
       "</style>\n",
       "<table border=\"1\" class=\"dataframe\">\n",
       "  <thead>\n",
       "    <tr style=\"text-align: right;\">\n",
       "      <th></th>\n",
       "      <th>0</th>\n",
       "      <th>1</th>\n",
       "      <th>2</th>\n",
       "      <th>3</th>\n",
       "      <th>4</th>\n",
       "    </tr>\n",
       "  </thead>\n",
       "  <tbody>\n",
       "    <tr>\n",
       "      <th>0</th>\n",
       "      <td>0.862924</td>\n",
       "      <td>0.758040</td>\n",
       "      <td>0.696137</td>\n",
       "      <td>0.799541</td>\n",
       "      <td>0.508075</td>\n",
       "    </tr>\n",
       "    <tr>\n",
       "      <th>1</th>\n",
       "      <td>-0.574761</td>\n",
       "      <td>-1.286734</td>\n",
       "      <td>-1.535405</td>\n",
       "      <td>0.341218</td>\n",
       "      <td>-0.292305</td>\n",
       "    </tr>\n",
       "    <tr>\n",
       "      <th>2</th>\n",
       "      <td>-0.143795</td>\n",
       "      <td>1.106938</td>\n",
       "      <td>-0.516658</td>\n",
       "      <td>-0.695903</td>\n",
       "      <td>0.120723</td>\n",
       "    </tr>\n",
       "    <tr>\n",
       "      <th>3</th>\n",
       "      <td>-0.731920</td>\n",
       "      <td>0.089456</td>\n",
       "      <td>0.338513</td>\n",
       "      <td>-0.985069</td>\n",
       "      <td>1.014619</td>\n",
       "    </tr>\n",
       "    <tr>\n",
       "      <th>4</th>\n",
       "      <td>-0.636327</td>\n",
       "      <td>0.535945</td>\n",
       "      <td>0.140935</td>\n",
       "      <td>0.865933</td>\n",
       "      <td>-0.309237</td>\n",
       "    </tr>\n",
       "  </tbody>\n",
       "</table>\n",
       "</div>"
      ],
      "text/plain": [
       "          0         1         2         3         4\n",
       "0  0.862924  0.758040  0.696137  0.799541  0.508075\n",
       "1 -0.574761 -1.286734 -1.535405  0.341218 -0.292305\n",
       "2 -0.143795  1.106938 -0.516658 -0.695903  0.120723\n",
       "3 -0.731920  0.089456  0.338513 -0.985069  1.014619\n",
       "4 -0.636327  0.535945  0.140935  0.865933 -0.309237"
      ]
     },
     "execution_count": 23,
     "metadata": {},
     "output_type": "execute_result"
    }
   ],
   "source": [
    "my_df"
   ]
  },
  {
   "cell_type": "code",
   "execution_count": 24,
   "id": "913b3c45-9a81-4b4e-8c02-16a4f4da17b6",
   "metadata": {
    "tags": []
   },
   "outputs": [],
   "source": [
    "my_df=pd.DataFrame(np.random.randn(25).reshape((5,5)),index=['a','b','c','d','e'])"
   ]
  },
  {
   "cell_type": "code",
   "execution_count": 25,
   "id": "7976593b-ea94-4f62-8d92-c72ecfcab27d",
   "metadata": {
    "tags": []
   },
   "outputs": [
    {
     "data": {
      "text/html": [
       "<div>\n",
       "<style scoped>\n",
       "    .dataframe tbody tr th:only-of-type {\n",
       "        vertical-align: middle;\n",
       "    }\n",
       "\n",
       "    .dataframe tbody tr th {\n",
       "        vertical-align: top;\n",
       "    }\n",
       "\n",
       "    .dataframe thead th {\n",
       "        text-align: right;\n",
       "    }\n",
       "</style>\n",
       "<table border=\"1\" class=\"dataframe\">\n",
       "  <thead>\n",
       "    <tr style=\"text-align: right;\">\n",
       "      <th></th>\n",
       "      <th>0</th>\n",
       "      <th>1</th>\n",
       "      <th>2</th>\n",
       "      <th>3</th>\n",
       "      <th>4</th>\n",
       "    </tr>\n",
       "  </thead>\n",
       "  <tbody>\n",
       "    <tr>\n",
       "      <th>a</th>\n",
       "      <td>-0.058037</td>\n",
       "      <td>-0.512531</td>\n",
       "      <td>1.791652</td>\n",
       "      <td>-0.287469</td>\n",
       "      <td>-1.461702</td>\n",
       "    </tr>\n",
       "    <tr>\n",
       "      <th>b</th>\n",
       "      <td>-1.053049</td>\n",
       "      <td>-1.425236</td>\n",
       "      <td>-0.247576</td>\n",
       "      <td>0.015763</td>\n",
       "      <td>-1.177696</td>\n",
       "    </tr>\n",
       "    <tr>\n",
       "      <th>c</th>\n",
       "      <td>1.142262</td>\n",
       "      <td>0.832743</td>\n",
       "      <td>0.102860</td>\n",
       "      <td>0.255996</td>\n",
       "      <td>-1.441932</td>\n",
       "    </tr>\n",
       "    <tr>\n",
       "      <th>d</th>\n",
       "      <td>0.339156</td>\n",
       "      <td>0.612486</td>\n",
       "      <td>-0.118768</td>\n",
       "      <td>-1.120936</td>\n",
       "      <td>0.478331</td>\n",
       "    </tr>\n",
       "    <tr>\n",
       "      <th>e</th>\n",
       "      <td>0.586486</td>\n",
       "      <td>-0.750790</td>\n",
       "      <td>-0.664277</td>\n",
       "      <td>-1.495133</td>\n",
       "      <td>-0.626209</td>\n",
       "    </tr>\n",
       "  </tbody>\n",
       "</table>\n",
       "</div>"
      ],
      "text/plain": [
       "          0         1         2         3         4\n",
       "a -0.058037 -0.512531  1.791652 -0.287469 -1.461702\n",
       "b -1.053049 -1.425236 -0.247576  0.015763 -1.177696\n",
       "c  1.142262  0.832743  0.102860  0.255996 -1.441932\n",
       "d  0.339156  0.612486 -0.118768 -1.120936  0.478331\n",
       "e  0.586486 -0.750790 -0.664277 -1.495133 -0.626209"
      ]
     },
     "execution_count": 25,
     "metadata": {},
     "output_type": "execute_result"
    }
   ],
   "source": [
    "my_df"
   ]
  },
  {
   "cell_type": "code",
   "execution_count": 26,
   "id": "00057e1a-1b9b-4e40-93cf-c382f41b9466",
   "metadata": {
    "tags": []
   },
   "outputs": [],
   "source": [
    "my_df=pd.DataFrame(np.random.randn(25).reshape((5,5)),index=['a','b','c','d','e'],columns=['c1','c2','c3','c4','c5'])"
   ]
  },
  {
   "cell_type": "code",
   "execution_count": 27,
   "id": "c6c7f1e1-d1c0-484f-aaff-9756d8d9e0e1",
   "metadata": {
    "tags": []
   },
   "outputs": [
    {
     "data": {
      "text/html": [
       "<div>\n",
       "<style scoped>\n",
       "    .dataframe tbody tr th:only-of-type {\n",
       "        vertical-align: middle;\n",
       "    }\n",
       "\n",
       "    .dataframe tbody tr th {\n",
       "        vertical-align: top;\n",
       "    }\n",
       "\n",
       "    .dataframe thead th {\n",
       "        text-align: right;\n",
       "    }\n",
       "</style>\n",
       "<table border=\"1\" class=\"dataframe\">\n",
       "  <thead>\n",
       "    <tr style=\"text-align: right;\">\n",
       "      <th></th>\n",
       "      <th>c1</th>\n",
       "      <th>c2</th>\n",
       "      <th>c3</th>\n",
       "      <th>c4</th>\n",
       "      <th>c5</th>\n",
       "    </tr>\n",
       "  </thead>\n",
       "  <tbody>\n",
       "    <tr>\n",
       "      <th>a</th>\n",
       "      <td>0.413120</td>\n",
       "      <td>0.750316</td>\n",
       "      <td>0.493994</td>\n",
       "      <td>0.442822</td>\n",
       "      <td>-0.245679</td>\n",
       "    </tr>\n",
       "    <tr>\n",
       "      <th>b</th>\n",
       "      <td>-0.131202</td>\n",
       "      <td>-0.805487</td>\n",
       "      <td>-0.883382</td>\n",
       "      <td>0.606234</td>\n",
       "      <td>0.637895</td>\n",
       "    </tr>\n",
       "    <tr>\n",
       "      <th>c</th>\n",
       "      <td>-0.256617</td>\n",
       "      <td>-0.974881</td>\n",
       "      <td>0.612773</td>\n",
       "      <td>-1.414369</td>\n",
       "      <td>-0.264635</td>\n",
       "    </tr>\n",
       "    <tr>\n",
       "      <th>d</th>\n",
       "      <td>1.208641</td>\n",
       "      <td>-0.512042</td>\n",
       "      <td>1.025221</td>\n",
       "      <td>-0.637052</td>\n",
       "      <td>-0.732113</td>\n",
       "    </tr>\n",
       "    <tr>\n",
       "      <th>e</th>\n",
       "      <td>-0.226280</td>\n",
       "      <td>0.932356</td>\n",
       "      <td>-1.003950</td>\n",
       "      <td>0.119564</td>\n",
       "      <td>2.440677</td>\n",
       "    </tr>\n",
       "  </tbody>\n",
       "</table>\n",
       "</div>"
      ],
      "text/plain": [
       "         c1        c2        c3        c4        c5\n",
       "a  0.413120  0.750316  0.493994  0.442822 -0.245679\n",
       "b -0.131202 -0.805487 -0.883382  0.606234  0.637895\n",
       "c -0.256617 -0.974881  0.612773 -1.414369 -0.264635\n",
       "d  1.208641 -0.512042  1.025221 -0.637052 -0.732113\n",
       "e -0.226280  0.932356 -1.003950  0.119564  2.440677"
      ]
     },
     "execution_count": 27,
     "metadata": {},
     "output_type": "execute_result"
    }
   ],
   "source": [
    "my_df"
   ]
  },
  {
   "cell_type": "code",
   "execution_count": 28,
   "id": "54c62e58-9de9-4a0a-a12b-14c6b8b20d5a",
   "metadata": {
    "tags": []
   },
   "outputs": [
    {
     "data": {
      "text/html": [
       "<div>\n",
       "<style scoped>\n",
       "    .dataframe tbody tr th:only-of-type {\n",
       "        vertical-align: middle;\n",
       "    }\n",
       "\n",
       "    .dataframe tbody tr th {\n",
       "        vertical-align: top;\n",
       "    }\n",
       "\n",
       "    .dataframe thead th {\n",
       "        text-align: right;\n",
       "    }\n",
       "</style>\n",
       "<table border=\"1\" class=\"dataframe\">\n",
       "  <thead>\n",
       "    <tr style=\"text-align: right;\">\n",
       "      <th></th>\n",
       "      <th>c1</th>\n",
       "      <th>c2</th>\n",
       "      <th>c3</th>\n",
       "      <th>c4</th>\n",
       "      <th>c5</th>\n",
       "    </tr>\n",
       "  </thead>\n",
       "  <tbody>\n",
       "    <tr>\n",
       "      <th>a</th>\n",
       "      <td>0.413120</td>\n",
       "      <td>0.750316</td>\n",
       "      <td>0.493994</td>\n",
       "      <td>0.442822</td>\n",
       "      <td>-0.245679</td>\n",
       "    </tr>\n",
       "    <tr>\n",
       "      <th>c</th>\n",
       "      <td>-0.256617</td>\n",
       "      <td>-0.974881</td>\n",
       "      <td>0.612773</td>\n",
       "      <td>-1.414369</td>\n",
       "      <td>-0.264635</td>\n",
       "    </tr>\n",
       "    <tr>\n",
       "      <th>d</th>\n",
       "      <td>1.208641</td>\n",
       "      <td>-0.512042</td>\n",
       "      <td>1.025221</td>\n",
       "      <td>-0.637052</td>\n",
       "      <td>-0.732113</td>\n",
       "    </tr>\n",
       "    <tr>\n",
       "      <th>e</th>\n",
       "      <td>-0.226280</td>\n",
       "      <td>0.932356</td>\n",
       "      <td>-1.003950</td>\n",
       "      <td>0.119564</td>\n",
       "      <td>2.440677</td>\n",
       "    </tr>\n",
       "  </tbody>\n",
       "</table>\n",
       "</div>"
      ],
      "text/plain": [
       "         c1        c2        c3        c4        c5\n",
       "a  0.413120  0.750316  0.493994  0.442822 -0.245679\n",
       "c -0.256617 -0.974881  0.612773 -1.414369 -0.264635\n",
       "d  1.208641 -0.512042  1.025221 -0.637052 -0.732113\n",
       "e -0.226280  0.932356 -1.003950  0.119564  2.440677"
      ]
     },
     "execution_count": 28,
     "metadata": {},
     "output_type": "execute_result"
    }
   ],
   "source": [
    "my_df.drop('b')"
   ]
  },
  {
   "cell_type": "code",
   "execution_count": 29,
   "id": "86133cdf-38cd-4dd8-b897-03d9eea34017",
   "metadata": {
    "tags": []
   },
   "outputs": [
    {
     "data": {
      "text/html": [
       "<div>\n",
       "<style scoped>\n",
       "    .dataframe tbody tr th:only-of-type {\n",
       "        vertical-align: middle;\n",
       "    }\n",
       "\n",
       "    .dataframe tbody tr th {\n",
       "        vertical-align: top;\n",
       "    }\n",
       "\n",
       "    .dataframe thead th {\n",
       "        text-align: right;\n",
       "    }\n",
       "</style>\n",
       "<table border=\"1\" class=\"dataframe\">\n",
       "  <thead>\n",
       "    <tr style=\"text-align: right;\">\n",
       "      <th></th>\n",
       "      <th>c1</th>\n",
       "      <th>c3</th>\n",
       "      <th>c4</th>\n",
       "      <th>c5</th>\n",
       "    </tr>\n",
       "  </thead>\n",
       "  <tbody>\n",
       "    <tr>\n",
       "      <th>a</th>\n",
       "      <td>0.413120</td>\n",
       "      <td>0.493994</td>\n",
       "      <td>0.442822</td>\n",
       "      <td>-0.245679</td>\n",
       "    </tr>\n",
       "    <tr>\n",
       "      <th>b</th>\n",
       "      <td>-0.131202</td>\n",
       "      <td>-0.883382</td>\n",
       "      <td>0.606234</td>\n",
       "      <td>0.637895</td>\n",
       "    </tr>\n",
       "    <tr>\n",
       "      <th>c</th>\n",
       "      <td>-0.256617</td>\n",
       "      <td>0.612773</td>\n",
       "      <td>-1.414369</td>\n",
       "      <td>-0.264635</td>\n",
       "    </tr>\n",
       "    <tr>\n",
       "      <th>d</th>\n",
       "      <td>1.208641</td>\n",
       "      <td>1.025221</td>\n",
       "      <td>-0.637052</td>\n",
       "      <td>-0.732113</td>\n",
       "    </tr>\n",
       "    <tr>\n",
       "      <th>e</th>\n",
       "      <td>-0.226280</td>\n",
       "      <td>-1.003950</td>\n",
       "      <td>0.119564</td>\n",
       "      <td>2.440677</td>\n",
       "    </tr>\n",
       "  </tbody>\n",
       "</table>\n",
       "</div>"
      ],
      "text/plain": [
       "         c1        c3        c4        c5\n",
       "a  0.413120  0.493994  0.442822 -0.245679\n",
       "b -0.131202 -0.883382  0.606234  0.637895\n",
       "c -0.256617  0.612773 -1.414369 -0.264635\n",
       "d  1.208641  1.025221 -0.637052 -0.732113\n",
       "e -0.226280 -1.003950  0.119564  2.440677"
      ]
     },
     "execution_count": 29,
     "metadata": {},
     "output_type": "execute_result"
    }
   ],
   "source": [
    "my_df.drop('c2',axis=1)"
   ]
  },
  {
   "cell_type": "code",
   "execution_count": 30,
   "id": "06d274ee-49e0-471e-9719-4f9225a9d0cd",
   "metadata": {
    "tags": []
   },
   "outputs": [],
   "source": [
    "my_df.drop('c2',axis=1,inplace=True)"
   ]
  },
  {
   "cell_type": "code",
   "execution_count": 31,
   "id": "5a244636-1b3a-4e4f-b3ca-28ab0b066d24",
   "metadata": {
    "tags": []
   },
   "outputs": [
    {
     "data": {
      "text/html": [
       "<div>\n",
       "<style scoped>\n",
       "    .dataframe tbody tr th:only-of-type {\n",
       "        vertical-align: middle;\n",
       "    }\n",
       "\n",
       "    .dataframe tbody tr th {\n",
       "        vertical-align: top;\n",
       "    }\n",
       "\n",
       "    .dataframe thead th {\n",
       "        text-align: right;\n",
       "    }\n",
       "</style>\n",
       "<table border=\"1\" class=\"dataframe\">\n",
       "  <thead>\n",
       "    <tr style=\"text-align: right;\">\n",
       "      <th></th>\n",
       "      <th>c1</th>\n",
       "      <th>c3</th>\n",
       "      <th>c4</th>\n",
       "      <th>c5</th>\n",
       "    </tr>\n",
       "  </thead>\n",
       "  <tbody>\n",
       "    <tr>\n",
       "      <th>a</th>\n",
       "      <td>0.413120</td>\n",
       "      <td>0.493994</td>\n",
       "      <td>0.442822</td>\n",
       "      <td>-0.245679</td>\n",
       "    </tr>\n",
       "    <tr>\n",
       "      <th>b</th>\n",
       "      <td>-0.131202</td>\n",
       "      <td>-0.883382</td>\n",
       "      <td>0.606234</td>\n",
       "      <td>0.637895</td>\n",
       "    </tr>\n",
       "    <tr>\n",
       "      <th>c</th>\n",
       "      <td>-0.256617</td>\n",
       "      <td>0.612773</td>\n",
       "      <td>-1.414369</td>\n",
       "      <td>-0.264635</td>\n",
       "    </tr>\n",
       "    <tr>\n",
       "      <th>d</th>\n",
       "      <td>1.208641</td>\n",
       "      <td>1.025221</td>\n",
       "      <td>-0.637052</td>\n",
       "      <td>-0.732113</td>\n",
       "    </tr>\n",
       "    <tr>\n",
       "      <th>e</th>\n",
       "      <td>-0.226280</td>\n",
       "      <td>-1.003950</td>\n",
       "      <td>0.119564</td>\n",
       "      <td>2.440677</td>\n",
       "    </tr>\n",
       "  </tbody>\n",
       "</table>\n",
       "</div>"
      ],
      "text/plain": [
       "         c1        c3        c4        c5\n",
       "a  0.413120  0.493994  0.442822 -0.245679\n",
       "b -0.131202 -0.883382  0.606234  0.637895\n",
       "c -0.256617  0.612773 -1.414369 -0.264635\n",
       "d  1.208641  1.025221 -0.637052 -0.732113\n",
       "e -0.226280 -1.003950  0.119564  2.440677"
      ]
     },
     "execution_count": 31,
     "metadata": {},
     "output_type": "execute_result"
    }
   ],
   "source": [
    "my_df"
   ]
  },
  {
   "cell_type": "code",
   "execution_count": 32,
   "id": "0c29eb28-bf0e-454f-b917-be40871dad5b",
   "metadata": {
    "tags": []
   },
   "outputs": [
    {
     "data": {
      "text/html": [
       "<div>\n",
       "<style scoped>\n",
       "    .dataframe tbody tr th:only-of-type {\n",
       "        vertical-align: middle;\n",
       "    }\n",
       "\n",
       "    .dataframe tbody tr th {\n",
       "        vertical-align: top;\n",
       "    }\n",
       "\n",
       "    .dataframe thead th {\n",
       "        text-align: right;\n",
       "    }\n",
       "</style>\n",
       "<table border=\"1\" class=\"dataframe\">\n",
       "  <thead>\n",
       "    <tr style=\"text-align: right;\">\n",
       "      <th></th>\n",
       "      <th>c1</th>\n",
       "      <th>c3</th>\n",
       "      <th>c4</th>\n",
       "      <th>c5</th>\n",
       "    </tr>\n",
       "  </thead>\n",
       "  <tbody>\n",
       "    <tr>\n",
       "      <th>count</th>\n",
       "      <td>5.000000</td>\n",
       "      <td>5.000000</td>\n",
       "      <td>5.000000</td>\n",
       "      <td>5.000000</td>\n",
       "    </tr>\n",
       "    <tr>\n",
       "      <th>mean</th>\n",
       "      <td>0.201532</td>\n",
       "      <td>0.048931</td>\n",
       "      <td>-0.176560</td>\n",
       "      <td>0.367229</td>\n",
       "    </tr>\n",
       "    <tr>\n",
       "      <th>std</th>\n",
       "      <td>0.625035</td>\n",
       "      <td>0.928292</td>\n",
       "      <td>0.840880</td>\n",
       "      <td>1.260546</td>\n",
       "    </tr>\n",
       "    <tr>\n",
       "      <th>min</th>\n",
       "      <td>-0.256617</td>\n",
       "      <td>-1.003950</td>\n",
       "      <td>-1.414369</td>\n",
       "      <td>-0.732113</td>\n",
       "    </tr>\n",
       "    <tr>\n",
       "      <th>25%</th>\n",
       "      <td>-0.226280</td>\n",
       "      <td>-0.883382</td>\n",
       "      <td>-0.637052</td>\n",
       "      <td>-0.264635</td>\n",
       "    </tr>\n",
       "    <tr>\n",
       "      <th>50%</th>\n",
       "      <td>-0.131202</td>\n",
       "      <td>0.493994</td>\n",
       "      <td>0.119564</td>\n",
       "      <td>-0.245679</td>\n",
       "    </tr>\n",
       "    <tr>\n",
       "      <th>75%</th>\n",
       "      <td>0.413120</td>\n",
       "      <td>0.612773</td>\n",
       "      <td>0.442822</td>\n",
       "      <td>0.637895</td>\n",
       "    </tr>\n",
       "    <tr>\n",
       "      <th>max</th>\n",
       "      <td>1.208641</td>\n",
       "      <td>1.025221</td>\n",
       "      <td>0.606234</td>\n",
       "      <td>2.440677</td>\n",
       "    </tr>\n",
       "  </tbody>\n",
       "</table>\n",
       "</div>"
      ],
      "text/plain": [
       "             c1        c3        c4        c5\n",
       "count  5.000000  5.000000  5.000000  5.000000\n",
       "mean   0.201532  0.048931 -0.176560  0.367229\n",
       "std    0.625035  0.928292  0.840880  1.260546\n",
       "min   -0.256617 -1.003950 -1.414369 -0.732113\n",
       "25%   -0.226280 -0.883382 -0.637052 -0.264635\n",
       "50%   -0.131202  0.493994  0.119564 -0.245679\n",
       "75%    0.413120  0.612773  0.442822  0.637895\n",
       "max    1.208641  1.025221  0.606234  2.440677"
      ]
     },
     "execution_count": 32,
     "metadata": {},
     "output_type": "execute_result"
    }
   ],
   "source": [
    "my_df.describe()"
   ]
  },
  {
   "cell_type": "code",
   "execution_count": 33,
   "id": "0968d80f-2391-46a9-8d0c-fde37ad1446f",
   "metadata": {
    "tags": []
   },
   "outputs": [
    {
     "data": {
      "text/html": [
       "<div>\n",
       "<style scoped>\n",
       "    .dataframe tbody tr th:only-of-type {\n",
       "        vertical-align: middle;\n",
       "    }\n",
       "\n",
       "    .dataframe tbody tr th {\n",
       "        vertical-align: top;\n",
       "    }\n",
       "\n",
       "    .dataframe thead th {\n",
       "        text-align: right;\n",
       "    }\n",
       "</style>\n",
       "<table border=\"1\" class=\"dataframe\">\n",
       "  <thead>\n",
       "    <tr style=\"text-align: right;\">\n",
       "      <th></th>\n",
       "      <th>a</th>\n",
       "      <th>b</th>\n",
       "      <th>c</th>\n",
       "      <th>d</th>\n",
       "      <th>e</th>\n",
       "    </tr>\n",
       "  </thead>\n",
       "  <tbody>\n",
       "    <tr>\n",
       "      <th>count</th>\n",
       "      <td>4.000000</td>\n",
       "      <td>4.000000</td>\n",
       "      <td>4.000000</td>\n",
       "      <td>4.000000</td>\n",
       "      <td>4.000000</td>\n",
       "    </tr>\n",
       "    <tr>\n",
       "      <th>mean</th>\n",
       "      <td>0.276064</td>\n",
       "      <td>0.057386</td>\n",
       "      <td>-0.330712</td>\n",
       "      <td>0.216174</td>\n",
       "      <td>0.332503</td>\n",
       "    </tr>\n",
       "    <tr>\n",
       "      <th>std</th>\n",
       "      <td>0.349429</td>\n",
       "      <td>0.720841</td>\n",
       "      <td>0.831531</td>\n",
       "      <td>1.043518</td>\n",
       "      <td>1.481900</td>\n",
       "    </tr>\n",
       "    <tr>\n",
       "      <th>min</th>\n",
       "      <td>-0.245679</td>\n",
       "      <td>-0.883382</td>\n",
       "      <td>-1.414369</td>\n",
       "      <td>-0.732113</td>\n",
       "      <td>-1.003950</td>\n",
       "    </tr>\n",
       "    <tr>\n",
       "      <th>25%</th>\n",
       "      <td>0.248420</td>\n",
       "      <td>-0.319247</td>\n",
       "      <td>-0.552069</td>\n",
       "      <td>-0.660818</td>\n",
       "      <td>-0.420697</td>\n",
       "    </tr>\n",
       "    <tr>\n",
       "      <th>50%</th>\n",
       "      <td>0.427971</td>\n",
       "      <td>0.237516</td>\n",
       "      <td>-0.260626</td>\n",
       "      <td>0.194084</td>\n",
       "      <td>-0.053358</td>\n",
       "    </tr>\n",
       "    <tr>\n",
       "      <th>75%</th>\n",
       "      <td>0.455615</td>\n",
       "      <td>0.614149</td>\n",
       "      <td>-0.039269</td>\n",
       "      <td>1.071076</td>\n",
       "      <td>0.699842</td>\n",
       "    </tr>\n",
       "    <tr>\n",
       "      <th>max</th>\n",
       "      <td>0.493994</td>\n",
       "      <td>0.637895</td>\n",
       "      <td>0.612773</td>\n",
       "      <td>1.208641</td>\n",
       "      <td>2.440677</td>\n",
       "    </tr>\n",
       "  </tbody>\n",
       "</table>\n",
       "</div>"
      ],
      "text/plain": [
       "              a         b         c         d         e\n",
       "count  4.000000  4.000000  4.000000  4.000000  4.000000\n",
       "mean   0.276064  0.057386 -0.330712  0.216174  0.332503\n",
       "std    0.349429  0.720841  0.831531  1.043518  1.481900\n",
       "min   -0.245679 -0.883382 -1.414369 -0.732113 -1.003950\n",
       "25%    0.248420 -0.319247 -0.552069 -0.660818 -0.420697\n",
       "50%    0.427971  0.237516 -0.260626  0.194084 -0.053358\n",
       "75%    0.455615  0.614149 -0.039269  1.071076  0.699842\n",
       "max    0.493994  0.637895  0.612773  1.208641  2.440677"
      ]
     },
     "execution_count": 33,
     "metadata": {},
     "output_type": "execute_result"
    }
   ],
   "source": [
    "my_df.transpose().describe()"
   ]
  },
  {
   "cell_type": "code",
   "execution_count": 34,
   "id": "cad1533d-23e1-4b90-b04f-8b26abba7e0b",
   "metadata": {
    "tags": []
   },
   "outputs": [
    {
     "data": {
      "text/plain": [
       "c1    1.007662\n",
       "c3    0.244656\n",
       "c4   -0.882801\n",
       "c5    1.836144\n",
       "dtype: float64"
      ]
     },
     "execution_count": 34,
     "metadata": {},
     "output_type": "execute_result"
    }
   ],
   "source": [
    "my_df.sum()"
   ]
  },
  {
   "cell_type": "code",
   "execution_count": 35,
   "id": "fbf48458-1f9d-482f-8a2b-b3f1a1000d93",
   "metadata": {
    "tags": []
   },
   "outputs": [
    {
     "data": {
      "text/html": [
       "<div>\n",
       "<style scoped>\n",
       "    .dataframe tbody tr th:only-of-type {\n",
       "        vertical-align: middle;\n",
       "    }\n",
       "\n",
       "    .dataframe tbody tr th {\n",
       "        vertical-align: top;\n",
       "    }\n",
       "\n",
       "    .dataframe thead th {\n",
       "        text-align: right;\n",
       "    }\n",
       "</style>\n",
       "<table border=\"1\" class=\"dataframe\">\n",
       "  <thead>\n",
       "    <tr style=\"text-align: right;\">\n",
       "      <th></th>\n",
       "      <th>c1</th>\n",
       "      <th>c3</th>\n",
       "      <th>c4</th>\n",
       "      <th>c5</th>\n",
       "    </tr>\n",
       "  </thead>\n",
       "  <tbody>\n",
       "    <tr>\n",
       "      <th>a</th>\n",
       "      <td>0.413120</td>\n",
       "      <td>0.493994</td>\n",
       "      <td>0.442822</td>\n",
       "      <td>-0.245679</td>\n",
       "    </tr>\n",
       "    <tr>\n",
       "      <th>b</th>\n",
       "      <td>0.281917</td>\n",
       "      <td>-0.389389</td>\n",
       "      <td>1.049056</td>\n",
       "      <td>0.392216</td>\n",
       "    </tr>\n",
       "    <tr>\n",
       "      <th>c</th>\n",
       "      <td>0.025300</td>\n",
       "      <td>0.223384</td>\n",
       "      <td>-0.365313</td>\n",
       "      <td>0.127581</td>\n",
       "    </tr>\n",
       "    <tr>\n",
       "      <th>d</th>\n",
       "      <td>1.233941</td>\n",
       "      <td>1.248605</td>\n",
       "      <td>-1.002365</td>\n",
       "      <td>-0.604532</td>\n",
       "    </tr>\n",
       "    <tr>\n",
       "      <th>e</th>\n",
       "      <td>1.007662</td>\n",
       "      <td>0.244656</td>\n",
       "      <td>-0.882801</td>\n",
       "      <td>1.836144</td>\n",
       "    </tr>\n",
       "  </tbody>\n",
       "</table>\n",
       "</div>"
      ],
      "text/plain": [
       "         c1        c3        c4        c5\n",
       "a  0.413120  0.493994  0.442822 -0.245679\n",
       "b  0.281917 -0.389389  1.049056  0.392216\n",
       "c  0.025300  0.223384 -0.365313  0.127581\n",
       "d  1.233941  1.248605 -1.002365 -0.604532\n",
       "e  1.007662  0.244656 -0.882801  1.836144"
      ]
     },
     "execution_count": 35,
     "metadata": {},
     "output_type": "execute_result"
    }
   ],
   "source": [
    "my_df.cumsum()"
   ]
  },
  {
   "cell_type": "code",
   "execution_count": 36,
   "id": "6f1f4f2e-3ded-4a95-a22b-7157f132095f",
   "metadata": {
    "tags": []
   },
   "outputs": [
    {
     "data": {
      "text/html": [
       "<div>\n",
       "<style scoped>\n",
       "    .dataframe tbody tr th:only-of-type {\n",
       "        vertical-align: middle;\n",
       "    }\n",
       "\n",
       "    .dataframe tbody tr th {\n",
       "        vertical-align: top;\n",
       "    }\n",
       "\n",
       "    .dataframe thead th {\n",
       "        text-align: right;\n",
       "    }\n",
       "</style>\n",
       "<table border=\"1\" class=\"dataframe\">\n",
       "  <thead>\n",
       "    <tr style=\"text-align: right;\">\n",
       "      <th></th>\n",
       "      <th>c1</th>\n",
       "      <th>c3</th>\n",
       "      <th>c4</th>\n",
       "      <th>c5</th>\n",
       "    </tr>\n",
       "  </thead>\n",
       "  <tbody>\n",
       "    <tr>\n",
       "      <th>a</th>\n",
       "      <td>0.413120</td>\n",
       "      <td>0.493994</td>\n",
       "      <td>0.442822</td>\n",
       "      <td>-0.245679</td>\n",
       "    </tr>\n",
       "    <tr>\n",
       "      <th>b</th>\n",
       "      <td>0.281917</td>\n",
       "      <td>-0.389389</td>\n",
       "      <td>1.049056</td>\n",
       "      <td>0.392216</td>\n",
       "    </tr>\n",
       "    <tr>\n",
       "      <th>c</th>\n",
       "      <td>0.025300</td>\n",
       "      <td>0.223384</td>\n",
       "      <td>-0.365313</td>\n",
       "      <td>0.127581</td>\n",
       "    </tr>\n",
       "    <tr>\n",
       "      <th>d</th>\n",
       "      <td>1.233941</td>\n",
       "      <td>1.248605</td>\n",
       "      <td>-1.002365</td>\n",
       "      <td>-0.604532</td>\n",
       "    </tr>\n",
       "    <tr>\n",
       "      <th>e</th>\n",
       "      <td>1.007662</td>\n",
       "      <td>0.244656</td>\n",
       "      <td>-0.882801</td>\n",
       "      <td>1.836144</td>\n",
       "    </tr>\n",
       "  </tbody>\n",
       "</table>\n",
       "</div>"
      ],
      "text/plain": [
       "         c1        c3        c4        c5\n",
       "a  0.413120  0.493994  0.442822 -0.245679\n",
       "b  0.281917 -0.389389  1.049056  0.392216\n",
       "c  0.025300  0.223384 -0.365313  0.127581\n",
       "d  1.233941  1.248605 -1.002365 -0.604532\n",
       "e  1.007662  0.244656 -0.882801  1.836144"
      ]
     },
     "execution_count": 36,
     "metadata": {},
     "output_type": "execute_result"
    }
   ],
   "source": [
    "my_df.cumsum(axis=0)"
   ]
  },
  {
   "cell_type": "code",
   "execution_count": 37,
   "id": "c1823e94-79d5-461d-9033-da719707cce2",
   "metadata": {
    "tags": []
   },
   "outputs": [
    {
     "data": {
      "text/plain": [
       "a    1.104256\n",
       "b    0.229544\n",
       "c   -1.322848\n",
       "d    0.864697\n",
       "e    1.330011\n",
       "dtype: float64"
      ]
     },
     "execution_count": 37,
     "metadata": {},
     "output_type": "execute_result"
    }
   ],
   "source": [
    "my_df.sum(axis=1)"
   ]
  },
  {
   "cell_type": "code",
   "execution_count": 38,
   "id": "d474da67-1607-4fad-8967-2c373143613d",
   "metadata": {
    "tags": []
   },
   "outputs": [
    {
     "data": {
      "text/plain": [
       "a   -0.245679\n",
       "b   -0.883382\n",
       "c   -1.414369\n",
       "d   -0.732113\n",
       "e   -1.003950\n",
       "dtype: float64"
      ]
     },
     "execution_count": 38,
     "metadata": {},
     "output_type": "execute_result"
    }
   ],
   "source": [
    "my_df.min(axis=1)"
   ]
  },
  {
   "cell_type": "code",
   "execution_count": 39,
   "id": "f37acba7-8ae9-49cd-acd0-b8447660f08c",
   "metadata": {
    "tags": []
   },
   "outputs": [
    {
     "data": {
      "text/plain": [
       "c1    c\n",
       "c3    e\n",
       "c4    c\n",
       "c5    d\n",
       "dtype: object"
      ]
     },
     "execution_count": 39,
     "metadata": {},
     "output_type": "execute_result"
    }
   ],
   "source": [
    "my_df.idxmin()"
   ]
  },
  {
   "cell_type": "code",
   "execution_count": 40,
   "id": "a339c39b-c48d-492c-8e85-9b8e7465156b",
   "metadata": {
    "tags": []
   },
   "outputs": [
    {
     "data": {
      "text/plain": [
       "a    c5\n",
       "b    c3\n",
       "c    c4\n",
       "d    c5\n",
       "e    c3\n",
       "dtype: object"
      ]
     },
     "execution_count": 40,
     "metadata": {},
     "output_type": "execute_result"
    }
   ],
   "source": [
    "my_df.idxmin(axis=1)"
   ]
  },
  {
   "cell_type": "code",
   "execution_count": 41,
   "id": "7fc53377-033f-4b20-a31b-bcb0e7875e46",
   "metadata": {
    "tags": []
   },
   "outputs": [
    {
     "name": "stderr",
     "output_type": "stream",
     "text": [
      "Matplotlib is building the font cache; this may take a moment.\n"
     ]
    },
    {
     "data": {
      "text/plain": [
       "<Axes: >"
      ]
     },
     "execution_count": 41,
     "metadata": {},
     "output_type": "execute_result"
    },
    {
     "data": {
      "image/png": "[encoded data removed]",
      "text/plain": [
       "<Figure size 640x480 with 1 Axes>"
      ]
     },
     "metadata": {},
     "output_type": "display_data"
    }
   ],
   "source": [
    "my_df.boxplot()"
   ]
  },
  {
   "cell_type": "code",
   "execution_count": null,
   "id": "9ae5d895-2a79-4f5e-a653-36c4e8938889",
   "metadata": {},
   "outputs": [],
   "source": []
  }
 ],
 "metadata": {
  "kernelspec": {
   "display_name": "Python 3 (ipykernel)",
   "language": "python",
   "name": "python3"
  },
  "language_info": {
   "codemirror_mode": {
    "name": "ipython",
    "version": 3
   },
   "file_extension": ".py",
   "mimetype": "text/x-python",
   "name": "python",
   "nbconvert_exporter": "python",
   "pygments_lexer": "ipython3",
   "version": "3.11.5"
  }
 },
 "nbformat": 4,
 "nbformat_minor": 5
}
