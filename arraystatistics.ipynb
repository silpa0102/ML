{
 "cells": [
  {
   "cell_type": "code",
   "execution_count": 1,
   "id": "9ad87908-7256-4513-ba69-c27fc37f3629",
   "metadata": {
    "tags": []
   },
   "outputs": [],
   "source": [
    "import numpy as np\n"
   ]
  },
  {
   "cell_type": "code",
   "execution_count": 2,
   "id": "541e9ce9-fe8a-4097-9de7-b445c05f2f0c",
   "metadata": {
    "tags": []
   },
   "outputs": [],
   "source": [
    "arr=np.random.randn(4,4)"
   ]
  },
  {
   "cell_type": "code",
   "execution_count": 3,
   "id": "4e46309b-5c15-456b-b580-4205b63959da",
   "metadata": {
    "tags": []
   },
   "outputs": [
    {
     "data": {
      "text/plain": [
       "array([[ 1.61667871, -0.44250272,  1.94376247, -1.15900537],\n",
       "       [ 0.39968317,  0.59710801,  1.07947682, -0.41817215],\n",
       "       [-0.51191078, -0.7541928 ,  0.73489641, -0.66412056],\n",
       "       [ 0.03536487, -1.29464956,  0.5353534 ,  2.26812123]])"
      ]
     },
     "execution_count": 3,
     "metadata": {},
     "output_type": "execute_result"
    }
   ],
   "source": [
    "arr"
   ]
  },
  {
   "cell_type": "code",
   "execution_count": 4,
   "id": "b9867e82-9bb8-4ee4-832d-9f27a231e7d3",
   "metadata": {
    "tags": []
   },
   "outputs": [
    {
     "data": {
      "text/plain": [
       "3.9658911631835334"
      ]
     },
     "execution_count": 4,
     "metadata": {},
     "output_type": "execute_result"
    }
   ],
   "source": [
    "arr.sum()"
   ]
  },
  {
   "cell_type": "code",
   "execution_count": 5,
   "id": "9be91569-87a8-4584-a6a2-d62c886721cb",
   "metadata": {
    "tags": []
   },
   "outputs": [
    {
     "data": {
      "text/plain": [
       "0.24786819769897084"
      ]
     },
     "execution_count": 5,
     "metadata": {},
     "output_type": "execute_result"
    }
   ],
   "source": [
    "arr.mean()"
   ]
  },
  {
   "cell_type": "code",
   "execution_count": 6,
   "id": "7c355c71-5123-4977-9f41-fe60943545d8",
   "metadata": {
    "tags": []
   },
   "outputs": [
    {
     "data": {
      "text/plain": [
       "1.1077939261268446"
      ]
     },
     "execution_count": 6,
     "metadata": {},
     "output_type": "execute_result"
    }
   ],
   "source": [
    "arr.var()"
   ]
  },
  {
   "cell_type": "code",
   "execution_count": 7,
   "id": "9a803b8c-c625-40e2-a854-3b2be72a6dcc",
   "metadata": {
    "tags": []
   },
   "outputs": [
    {
     "data": {
      "text/plain": [
       "1.052517898245367"
      ]
     },
     "execution_count": 7,
     "metadata": {},
     "output_type": "execute_result"
    }
   ],
   "source": [
    "arr.std()"
   ]
  },
  {
   "cell_type": "code",
   "execution_count": 8,
   "id": "36595223-fe64-48d6-b032-213cfe53d48a",
   "metadata": {
    "tags": []
   },
   "outputs": [
    {
     "data": {
      "text/plain": [
       "(array([0, 0, 1, 2, 2, 2, 3], dtype=int64),\n",
       " array([1, 3, 3, 0, 1, 3, 1], dtype=int64))"
      ]
     },
     "execution_count": 8,
     "metadata": {},
     "output_type": "execute_result"
    }
   ],
   "source": [
    "np.where(arr<0)\n"
   ]
  },
  {
   "cell_type": "code",
   "execution_count": 9,
   "id": "9b38771d-d1b4-42c8-9615-7285e6d06673",
   "metadata": {
    "tags": []
   },
   "outputs": [
    {
     "data": {
      "text/plain": [
       "array([[1.61667871, 0.        , 1.94376247, 0.        ],\n",
       "       [0.39968317, 0.59710801, 1.07947682, 0.        ],\n",
       "       [0.        , 0.        , 0.73489641, 0.        ],\n",
       "       [0.03536487, 0.        , 0.5353534 , 2.26812123]])"
      ]
     },
     "execution_count": 9,
     "metadata": {},
     "output_type": "execute_result"
    }
   ],
   "source": [
    "np.where(arr<0,0,arr)"
   ]
  },
  {
   "cell_type": "code",
   "execution_count": 10,
   "id": "bda3beac-4878-43fd-b625-674779000326",
   "metadata": {
    "tags": []
   },
   "outputs": [],
   "source": [
    "arr.sort()"
   ]
  },
  {
   "cell_type": "code",
   "execution_count": 11,
   "id": "67700521-8b5e-49ec-86a5-6955f5dbfb25",
   "metadata": {
    "tags": []
   },
   "outputs": [
    {
     "data": {
      "text/plain": [
       "array([[-1.15900537, -0.44250272,  1.61667871,  1.94376247],\n",
       "       [-0.41817215,  0.39968317,  0.59710801,  1.07947682],\n",
       "       [-0.7541928 , -0.66412056, -0.51191078,  0.73489641],\n",
       "       [-1.29464956,  0.03536487,  0.5353534 ,  2.26812123]])"
      ]
     },
     "execution_count": 11,
     "metadata": {},
     "output_type": "execute_result"
    }
   ],
   "source": [
    "arr"
   ]
  },
  {
   "cell_type": "code",
   "execution_count": null,
   "id": "b4f46e8f-a857-4e28-ba51-b11e15a7e0c1",
   "metadata": {},
   "outputs": [],
   "source": []
  }
 ],
 "metadata": {
  "kernelspec": {
   "display_name": "Python 3 (ipykernel)",
   "language": "python",
   "name": "python3"
  },
  "language_info": {
   "codemirror_mode": {
    "name": "ipython",
    "version": 3
   },
   "file_extension": ".py",
   "mimetype": "text/x-python",
   "name": "python",
   "nbconvert_exporter": "python",
   "pygments_lexer": "ipython3",
   "version": "3.11.5"
  }
 },
 "nbformat": 4,
 "nbformat_minor": 5
}
