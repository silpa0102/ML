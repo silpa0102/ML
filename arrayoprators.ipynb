{
 "cells": [
  {
   "cell_type": "code",
   "execution_count": 1,
   "id": "2285f0a2-dcda-41c5-9e47-f598513d6997",
   "metadata": {
    "tags": []
   },
   "outputs": [],
   "source": [
    "import numpy as np\n"
   ]
  },
  {
   "cell_type": "code",
   "execution_count": 2,
   "id": "f85e951c-5b19-44a9-a84a-639795129705",
   "metadata": {
    "tags": []
   },
   "outputs": [],
   "source": [
    "b=np.random.random((3,3))"
   ]
  },
  {
   "cell_type": "code",
   "execution_count": 3,
   "id": "7d28ff46-11f0-44ba-95a0-22a8e98dc12a",
   "metadata": {
    "tags": []
   },
   "outputs": [],
   "source": [
    "c=np.random.random((3,3))"
   ]
  },
  {
   "cell_type": "code",
   "execution_count": 4,
   "id": "09fba549-7a80-4015-a904-d96d2155662d",
   "metadata": {
    "tags": []
   },
   "outputs": [
    {
     "data": {
      "text/plain": [
       "array([[0.69829407, 0.15568564, 0.39159326],\n",
       "       [0.2577049 , 0.89838961, 0.56407425],\n",
       "       [0.19142558, 0.10212813, 0.53427677]])"
      ]
     },
     "execution_count": 4,
     "metadata": {},
     "output_type": "execute_result"
    }
   ],
   "source": [
    "b"
   ]
  },
  {
   "cell_type": "code",
   "execution_count": 5,
   "id": "e3931c52-1186-4749-b5f2-28dbfeb06438",
   "metadata": {
    "tags": []
   },
   "outputs": [
    {
     "data": {
      "text/plain": [
       "array([[0.07621099, 0.41323703, 0.47016828],\n",
       "       [0.51593255, 0.60588136, 0.66986029],\n",
       "       [0.68995917, 0.51309455, 0.0170613 ]])"
      ]
     },
     "execution_count": 5,
     "metadata": {},
     "output_type": "execute_result"
    }
   ],
   "source": [
    "c"
   ]
  },
  {
   "cell_type": "code",
   "execution_count": 6,
   "id": "e8b0780d-b906-4742-8523-e6a35d397121",
   "metadata": {
    "tags": []
   },
   "outputs": [
    {
     "data": {
      "text/plain": [
       "array([[0.77450506, 0.56892267, 0.86176154],\n",
       "       [0.77363745, 1.50427097, 1.23393454],\n",
       "       [0.88138475, 0.61522268, 0.55133807]])"
      ]
     },
     "execution_count": 6,
     "metadata": {},
     "output_type": "execute_result"
    }
   ],
   "source": [
    "b + c"
   ]
  },
  {
   "cell_type": "code",
   "execution_count": 7,
   "id": "ec5dbacb-01af-4c6b-a5ce-0c243776a572",
   "metadata": {
    "tags": []
   },
   "outputs": [
    {
     "data": {
      "text/plain": [
       "array([[ 0.62208308, -0.25755139, -0.07857501],\n",
       "       [-0.25822765,  0.29250825, -0.10578604],\n",
       "       [-0.49853359, -0.41096642,  0.51721547]])"
      ]
     },
     "execution_count": 7,
     "metadata": {},
     "output_type": "execute_result"
    }
   ],
   "source": [
    "b -c"
   ]
  },
  {
   "cell_type": "code",
   "execution_count": 8,
   "id": "1227c281-91b1-4527-8ab3-4840c7537571",
   "metadata": {
    "tags": []
   },
   "outputs": [
    {
     "data": {
      "text/plain": [
       "array([[0.05321768, 0.06433507, 0.18411473],\n",
       "       [0.13295835, 0.54431752, 0.37785094],\n",
       "       [0.13207584, 0.05240139, 0.00911546]])"
      ]
     },
     "execution_count": 8,
     "metadata": {},
     "output_type": "execute_result"
    }
   ],
   "source": [
    "b*c"
   ]
  },
  {
   "cell_type": "code",
   "execution_count": 9,
   "id": "999af1ad-db64-4c70-b4ca-8fab2f41b64d",
   "metadata": {
    "tags": []
   },
   "outputs": [
    {
     "data": {
      "text/plain": [
       "array([[ 9.16264261,  0.37674659,  0.83287896],\n",
       "       [ 0.49949339,  1.4827814 ,  0.84207746],\n",
       "       [ 0.2774448 ,  0.19904349, 31.31512607]])"
      ]
     },
     "execution_count": 9,
     "metadata": {},
     "output_type": "execute_result"
    }
   ],
   "source": [
    "b/c"
   ]
  },
  {
   "cell_type": "code",
   "execution_count": 10,
   "id": "c95d3bf4-f0bb-4fec-9a2b-d20106fc69de",
   "metadata": {
    "tags": []
   },
   "outputs": [
    {
     "data": {
      "text/plain": [
       "array([[0.01239515, 0.15568564, 0.39159326],\n",
       "       [0.2577049 , 0.29250825, 0.56407425],\n",
       "       [0.19142558, 0.10212813, 0.00537646]])"
      ]
     },
     "execution_count": 10,
     "metadata": {},
     "output_type": "execute_result"
    }
   ],
   "source": [
    "b%c"
   ]
  },
  {
   "cell_type": "code",
   "execution_count": 11,
   "id": "de32a07a-eb26-4120-9b4e-4353e20568d9",
   "metadata": {
    "tags": []
   },
   "outputs": [
    {
     "data": {
      "text/plain": [
       "array([[13.12146696,  2.41991868,  2.12689807],\n",
       "       [ 1.93823784,  1.65048815,  1.49284861],\n",
       "       [ 1.44936112,  1.94895853, 58.61218021]])"
      ]
     },
     "execution_count": 11,
     "metadata": {},
     "output_type": "execute_result"
    }
   ],
   "source": [
    "1/c"
   ]
  },
  {
   "cell_type": "code",
   "execution_count": 12,
   "id": "a7b6d8f1-c232-4bfd-be0b-d66cb061934e",
   "metadata": {
    "tags": []
   },
   "outputs": [
    {
     "data": {
      "text/plain": [
       "array([[ 2.86412283, 12.84639993,  5.10734015],\n",
       "       [ 7.76081478,  2.22620562,  3.5456325 ],\n",
       "       [10.44792432, 19.58324327,  3.7433782 ]])"
      ]
     },
     "execution_count": 12,
     "metadata": {},
     "output_type": "execute_result"
    }
   ],
   "source": [
    "2/b"
   ]
  },
  {
   "cell_type": "code",
   "execution_count": 13,
   "id": "3f12718d-1f89-4d21-b850-d1759bd1ffe2",
   "metadata": {
    "tags": []
   },
   "outputs": [],
   "source": [
    "b += c #b=b+c"
   ]
  },
  {
   "cell_type": "code",
   "execution_count": 14,
   "id": "27ff1012-ca49-4cab-a014-d33005c068b9",
   "metadata": {
    "tags": []
   },
   "outputs": [
    {
     "data": {
      "text/plain": [
       "array([[0.77450506, 0.56892267, 0.86176154],\n",
       "       [0.77363745, 1.50427097, 1.23393454],\n",
       "       [0.88138475, 0.61522268, 0.55133807]])"
      ]
     },
     "execution_count": 14,
     "metadata": {},
     "output_type": "execute_result"
    }
   ],
   "source": [
    "b"
   ]
  },
  {
   "cell_type": "code",
   "execution_count": 15,
   "id": "3b8e6de1-17d0-4059-85ca-d2ae55fe4ae2",
   "metadata": {
    "tags": []
   },
   "outputs": [
    {
     "data": {
      "text/plain": [
       "array([[0.59985809, 0.323673  , 0.74263295],\n",
       "       [0.59851491, 2.26283115, 1.52259445],\n",
       "       [0.77683908, 0.37849894, 0.30397366]])"
      ]
     },
     "execution_count": 15,
     "metadata": {},
     "output_type": "execute_result"
    }
   ],
   "source": [
    " b**2"
   ]
  },
  {
   "cell_type": "code",
   "execution_count": 16,
   "id": "1d4dba0d-a6e7-4e96-9743-420067aaca95",
   "metadata": {
    "tags": []
   },
   "outputs": [
    {
     "data": {
      "text/plain": [
       "0.2758617313096681"
      ]
     },
     "execution_count": 16,
     "metadata": {},
     "output_type": "execute_result"
    }
   ],
   "source": [
    "0.52522541 *0.52522541"
   ]
  },
  {
   "cell_type": "code",
   "execution_count": 17,
   "id": "a7b23701-880d-43b0-ad50-2666d515905b",
   "metadata": {},
   "outputs": [
    {
     "data": {
      "text/plain": [
       "2.1125656805635686"
      ]
     },
     "execution_count": 17,
     "metadata": {},
     "output_type": "execute_result"
    }
   ],
   "source": [
    "1.45346678 * 1.45346678"
   ]
  },
  {
   "cell_type": "code",
   "execution_count": null,
   "id": "c45194ce-dd1d-4fe8-b107-24234a6d6166",
   "metadata": {},
   "outputs": [],
   "source": []
  }
 ],
 "metadata": {
  "kernelspec": {
   "display_name": "Python 3 (ipykernel)",
   "language": "python",
   "name": "python3"
  },
  "language_info": {
   "codemirror_mode": {
    "name": "ipython",
    "version": 3
   },
   "file_extension": ".py",
   "mimetype": "text/x-python",
   "name": "python",
   "nbconvert_exporter": "python",
   "pygments_lexer": "ipython3",
   "version": "3.11.5"
  }
 },
 "nbformat": 4,
 "nbformat_minor": 5
}
